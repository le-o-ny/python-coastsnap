{
 "cells": [
  {
   "cell_type": "markdown",
   "metadata": {},
   "source": [
    "# Georectify Image"
   ]
  },
  {
   "cell_type": "code",
   "execution_count": 1,
   "metadata": {},
   "outputs": [],
   "source": [
    "import numpy as np\n",
    "import numpy.matlib\n",
    "import scipy.io\n",
    "from scipy.optimize import curve_fit\n",
    "import matplotlib.pyplot as plt\n",
    "from scipy import interpolate\n",
    "\n",
    "mat = scipy.io.loadmat('Georectify_Python.mat')\n",
    "\n",
    "I = mat['I']\n",
    "nGcps = mat['nGcps'][0,0]"
   ]
  },
  {
   "cell_type": "markdown",
   "metadata": {},
   "source": [
    "### 1. Get data about the selected image and the site from previous stages.\n",
    "### 2. Check if the image has already been rectified.\n",
    "### 3. Retrieve the GCP (ground control point) real world location information from the database.\n",
    "### 4. Define the initial external camera parameters.\n",
    "### 5. Prompt the user to interactively select the location of each GCP within the image:"
   ]
  },
  {
   "cell_type": "markdown",
   "metadata": {},
   "source": [
    "After running the next code cell, and the figure appears, follow the steps below to select the GCP locations:"
   ]
  },
  {
   "cell_type": "markdown",
   "metadata": {},
   "source": [
    "1. Click and hold the left mouse button while dragging inside the image to create a rectangle to zoom in on.\n",
    "2. Release the left mouse button and the zoom will occur.\n",
    "3. Repeat the above steps until you have zoomed in enough on the location of interest.\n",
    "4. Press any key.\n",
    "5. When the cursor is moved it becomes a selector to locate the exact location of the GCP.\n",
    "6. Click on the GCP location.\n",
    "7. Click the 'reset original view' button (i.e. the house) on the left of the tool bar. You should now see a green dot in the GCP location specified.\n",
    "***\n",
    "8. Repeat steps 1 to 7 for each GCP."
   ]
  },
  {
   "cell_type": "code",
   "execution_count": null,
   "metadata": {},
   "outputs": [],
   "source": [
    "%matplotlib qt\n",
    "fig, axes = plt.subplots()\n",
    "axes.imshow(I)\n",
    "UV = np.zeros((nGcps,2))\n",
    "for i in np.linspace(1, nGcps, nGcps, dtype=int, endpoint=True):\n",
    "    fig.canvas.toolbar.zoom()\n",
    "    while not plt.waitforbuttonpress(): pass\n",
    "    fig.canvas.toolbar.zoom()\n",
    "    A = plt.ginput(n=1, timeout=0)\n",
    "    axes.plot(A[0][0], A[0][1],'go', markersize = 3)\n",
    "    UV[(i-1),:] = A[0]\n",
    "plt.close()"
   ]
  },
  {
   "cell_type": "markdown",
   "metadata": {},
   "source": [
    "The UV values have now been determined and are defined in the variable **UV**:"
   ]
  },
  {
   "cell_type": "code",
   "execution_count": 3,
   "metadata": {},
   "outputs": [
    {
     "data": {
      "text/plain": [
       "array([[ 347.94072057, 1330.59342271],\n",
       "       [ 606.14767491, 1152.96124843],\n",
       "       [1043.29053205,  323.46816087],\n",
       "       [1156.36557598,  268.02690167],\n",
       "       [1350.28676163,  281.83933808],\n",
       "       [  75.18831169,  597.94155844],\n",
       "       [ 221.93317972,  469.92647675]])"
      ]
     },
     "execution_count": 3,
     "metadata": {},
     "output_type": "execute_result"
    }
   ],
   "source": [
    "UV"
   ]
  },
  {
   "cell_type": "markdown",
   "metadata": {},
   "source": [
    "### 6. Establish the unknown camera parameters"
   ]
  },
  {
   "cell_type": "code",
   "execution_count": 2,
   "metadata": {},
   "outputs": [],
   "source": [
    "HFOV_min = mat['HFOV_min']\n",
    "HFOV_max = mat['HFOV_max']\n",
    "Nu = mat['Nu']\n",
    "\n",
    "A = np.arange(5, 500005, 5)\n",
    "B = np.arange(5, 500005, 5)\n",
    "\n",
    "fx_max = 0.5*Nu/np.tan(HFOV_min*np.pi/360) #From Eq. 4 in Harley et al. (2019)\n",
    "fx_min = 0.5*Nu/np.tan(HFOV_max*np.pi/360) #From Eq. 4 in Harley et al. (2019)\n",
    "fx_min = interpolate.interp1d(A, B, kind='nearest')(fx_min)\n",
    "fx_max = interpolate.interp1d(A, B, kind='nearest')(fx_max)"
   ]
  },
  {
   "cell_type": "code",
   "execution_count": 3,
   "metadata": {},
   "outputs": [
    {
     "name": "stdout",
     "output_type": "stream",
     "text": [
      "[[1460.]]\n",
      "[[2815.]]\n"
     ]
    }
   ],
   "source": [
    "print(fx_min)\n",
    "print(fx_max)"
   ]
  },
  {
   "cell_type": "code",
   "execution_count": 4,
   "metadata": {},
   "outputs": [],
   "source": [
    "fx = np.arange(fx_min, fx_max+5, 5)"
   ]
  },
  {
   "cell_type": "code",
   "execution_count": 5,
   "metadata": {},
   "outputs": [],
   "source": [
    "GlobsOutput = scipy.io.loadmat('GlobsOutput.mat')\n",
    "\n",
    "xyz = GlobsOutput['xyz'].astype(float)\n",
    "UV = GlobsOutput['UV'].astype(float)\n",
    "beta0 = GlobsOutput['beta0']"
   ]
  },
  {
   "cell_type": "code",
   "execution_count": 6,
   "metadata": {},
   "outputs": [],
   "source": [
    "def TESTFITFUNC(xyz, beta0, beta1, beta2, beta3, beta4, beta5):\n",
    "    #note: scipy.optimize.curve_fit required the parameters to fit as separate arguments in\n",
    "    #the function definition. This is why beta1, beta2 etc... are written rather than just beta.\n",
    "    mat = scipy.io.loadmat('RectifyImagePython.mat')\n",
    "    \n",
    "    fx = mat['fx'][0,0].astype(float)\n",
    "    #note: it was found that -fy when data type is unit 16 returned a very unusul result.\n",
    "    #so it is impotant these are dtype: float.\n",
    "    fy = mat['fy'][0,0].astype(float)\n",
    "    c0U = mat['c0U'][0,0].astype(float)\n",
    "    c0V = mat['c0V'][0,0].astype(float)\n",
    "\n",
    "    K = np.array([[fx, 0, c0U],[0, -fy, c0V],[0, 0, 1]]).astype(float)\n",
    "\n",
    "    R = np.zeros((3, 3))\n",
    "\n",
    "    def angles2R(a, t, s):\n",
    "        R[0,0] = np.cos(a) * np.cos(s) + np.sin(a) * np.cos(t) * np.sin(s)\n",
    "        R[0,1] = -np.cos(s) * np.sin(a) + np.sin(s) * np.cos(t) * np.cos(a)\n",
    "        R[0,2] = np.sin(s) * np.sin(t)\n",
    "        R[1,0] = -np.sin(s) * np.cos(a) + np.cos(s) * np.cos(t) * np.sin(a)\n",
    "        R[1,1] = np.sin(s) * np.sin(a) + np.cos(s) * np.cos(t) * np.cos(a)\n",
    "        R[1,2] = np.cos(s) * np.sin(t)\n",
    "        R[2,0] = np.sin(t) * np.sin(a)\n",
    "        R[2,1] = np.sin(t) * np.cos(a)\n",
    "        R[2,2] = -np.cos(t)\n",
    "    \n",
    "    angles2R(beta3, beta4, beta5)\n",
    "\n",
    "    I = np.eye(3)\n",
    "    C = np.array([beta0, beta1, beta2]).astype(float)\n",
    "    #to use np.hstack in the next cell, the arrays I and C both need to be 2D:\n",
    "    C.shape = (3,1)\n",
    "\n",
    "    IC = np.hstack((I,-C))\n",
    "\n",
    "    P = np.matmul(np.matmul(K,R),IC)\n",
    "    #note when comparing the output to P in MATLAB, the 1st and 3rd entries in the bottom\n",
    "    #row are too small to show up in the MATLAB way of displaying the data. The results are\n",
    "    #the same\n",
    "\n",
    "    P = P/P[2,3]\n",
    "\n",
    "    #note: instead of np.tranpose, an alternative is to place \".T\" after the object to be transposed.\n",
    "    #I keep np.transpose since this makes is more obvious to someone analysing the code.\n",
    "    UV = np.matmul(P,np.vstack((np.transpose(xyz), np.ones((1, len(xyz)), dtype = float))))\n",
    "\n",
    "    UV = UV/np.matlib.repmat(UV[2,:],3,1)\n",
    "    UV = np.transpose(np.concatenate((UV[0,:], UV[1,:])))\n",
    "    return UV"
   ]
  },
  {
   "cell_type": "code",
   "execution_count": 7,
   "metadata": {},
   "outputs": [
    {
     "data": {
      "text/plain": [
       "array([-1.71807884e-01,  1.55786045e-01,  1.71404018e+01, -4.05849281e-01,\n",
       "        1.30282771e+00, -5.59067456e-03])"
      ]
     },
     "execution_count": 7,
     "metadata": {},
     "output_type": "execute_result"
    }
   ],
   "source": [
    "beta_opt, Cov = curve_fit(TESTFITFUNC, xyz, np.concatenate((UV[:,0], UV[:,1])),beta0)\n",
    "beta_opt"
   ]
  },
  {
   "cell_type": "code",
   "execution_count": 8,
   "metadata": {},
   "outputs": [
    {
     "data": {
      "text/plain": [
       "array([-1.71807884e-01,  1.55786045e-01,  1.71404018e+01, -4.05849281e-01,\n",
       "        1.30282771e+00, -5.59067456e-03])"
      ]
     },
     "execution_count": 8,
     "metadata": {},
     "output_type": "execute_result"
    }
   ],
   "source": [
    "beta = beta_opt\n",
    "beta"
   ]
  },
  {
   "cell_type": "code",
   "execution_count": 9,
   "metadata": {},
   "outputs": [
    {
     "data": {
      "text/plain": [
       "array([ 346.29152704,  607.46534188, 1040.92515199, 1155.12903568,\n",
       "       1348.12878925,   82.30556208,  225.95288111, 1330.23357742,\n",
       "       1153.50378761,  323.44768256,  267.84325823,  284.09014956,\n",
       "        596.10499614,  471.19385719])"
      ]
     },
     "execution_count": 9,
     "metadata": {},
     "output_type": "execute_result"
    }
   ],
   "source": [
    "UV_pred = TESTFITFUNC(xyz, beta[0], beta[1], beta[2], beta[3], beta[4], beta[5])\n",
    "UV_pred"
   ]
  },
  {
   "cell_type": "code",
   "execution_count": 10,
   "metadata": {},
   "outputs": [
    {
     "data": {
      "text/plain": [
       "array([ 348.39738939,  606.22045773, 1044.29203309, 1157.37241607,\n",
       "       1351.40228269,   76.61457026,  223.35540766, 1330.313504  ,\n",
       "       1153.066784  ,  324.1736    ,  268.481312  ,  282.458912  ,\n",
       "        598.063904  ,  470.69264   ])"
      ]
     },
     "execution_count": 10,
     "metadata": {},
     "output_type": "execute_result"
    }
   ],
   "source": [
    "UV = GlobsOutput['UV'].astype(float)\n",
    "UV = np.concatenate((UV[:,0], UV[:,1]))\n",
    "UV_true = UV\n",
    "UV_true"
   ]
  },
  {
   "cell_type": "code",
   "execution_count": 11,
   "metadata": {},
   "outputs": [
    {
     "data": {
      "text/plain": [
       "10.010494510522651"
      ]
     },
     "execution_count": 11,
     "metadata": {},
     "output_type": "execute_result"
    }
   ],
   "source": [
    "from sklearn.metrics import mean_squared_error\n",
    "\n",
    "mean_squared_error(UV_true, UV_pred)*((2*nGcps)/((2*nGcps)-beta0.shape[1]))"
   ]
  },
  {
   "cell_type": "markdown",
   "metadata": {},
   "source": [
    "### 7. Plot the GCP locations generated by the resolved camera parameters onto the image."
   ]
  },
  {
   "cell_type": "code",
   "execution_count": 12,
   "metadata": {},
   "outputs": [
    {
     "data": {
      "text/plain": [
       "<matplotlib.collections.PathCollection at 0x7fd99c7abb20>"
      ]
     },
     "execution_count": 12,
     "metadata": {},
     "output_type": "execute_result"
    }
   ],
   "source": [
    "mat = scipy.io.loadmat('UV_computed.mat')\n",
    "UV = mat['UV']\n",
    "UV_computed = mat['UV_computed'].reshape((-1,2))\n",
    "\n",
    "%matplotlib qt\n",
    "fig, axes = plt.subplots()\n",
    "axes.imshow(I)\n",
    "axes.plot(UV[:,0], UV[:,1],'go', markersize = 3)\n",
    "axes.scatter(UV_computed[:,0], UV_computed[:,1], s=80, facecolors='none', edgecolors='r')"
   ]
  },
  {
   "cell_type": "markdown",
   "metadata": {},
   "source": [
    "### 8. Create the plan image"
   ]
  },
  {
   "cell_type": "code",
   "execution_count": 13,
   "metadata": {},
   "outputs": [],
   "source": [
    "mat = scipy.io.loadmat('build___rect___products___Python.mat')\n",
    "\n",
    "images_xy = mat['images_xy']\n",
    "images_z = mat['images_z']\n",
    "I = mat['I'].astype(float)\n",
    "beta = mat['beta']\n",
    "dn = mat['dn']"
   ]
  },
  {
   "cell_type": "code",
   "execution_count": 14,
   "metadata": {},
   "outputs": [],
   "source": [
    "[NV, NU, NC] = I.shape\n",
    "#Details the minimum and maximum x and y coordinates and the spacing in x and y of the real-world grid\n",
    "xy = images_xy\n",
    "z = images_z[0,0]"
   ]
  },
  {
   "cell_type": "code",
   "execution_count": 15,
   "metadata": {},
   "outputs": [],
   "source": [
    "#Creates the x array to be passed to the meshgrid function\n",
    "x = np.arange(xy[0,0], (xy[0,2] + xy[0,1]), xy[0,1])\n",
    "#Creates the y array to be passed to the meshgrid function\n",
    "y = np.arange(xy[0,3], (xy[0,5] + xy[0,4]), xy[0,4])"
   ]
  },
  {
   "cell_type": "code",
   "execution_count": 16,
   "metadata": {},
   "outputs": [],
   "source": [
    "#Meshgrid generated\n",
    "X, Y = np.meshgrid(x, y)"
   ]
  },
  {
   "cell_type": "code",
   "execution_count": 17,
   "metadata": {},
   "outputs": [],
   "source": [
    "images_dn = dn\n",
    "#Zeros array with same dimensions as the grid and depth of 3 for each of RGB values\n",
    "images_sumI = np.zeros((len(y),len(x),3))\n",
    "#Zeros array with 2D grid dimensions\n",
    "images_N = np.zeros(X.shape)"
   ]
  },
  {
   "cell_type": "code",
   "execution_count": 18,
   "metadata": {},
   "outputs": [],
   "source": [
    "#Create an array representing the (x,y,z) coordinates of every point in the grid. shape: (nPoints, 3)\n",
    "xyz = np.column_stack((X.T.flatten(), Y.T.flatten(), np.matlib.repmat(z, len(X.T.flatten()), 1)))"
   ]
  },
  {
   "cell_type": "code",
   "execution_count": 19,
   "metadata": {},
   "outputs": [],
   "source": [
    "#All xyz coordinates in the grid are given their corresponding UV coordinates which are rounded to nearest integer\n",
    "UV = np.around(TESTFITFUNC(xyz, beta[0,0], beta[0,1], beta[0,2], beta[0,3], beta[0,4], beta[0,5]))\n",
    "#Order='F' means the reshape is done column by column.\n",
    "UV = np.reshape(UV, (-1, 2), order='F')"
   ]
  },
  {
   "cell_type": "code",
   "execution_count": 20,
   "metadata": {},
   "outputs": [],
   "source": [
    "def onScreen(U, V, Umax, Vmax):\n",
    "    Umin = 1\n",
    "    Vmin = 1\n",
    "\n",
    "    #Column of zeros, same length as UV(from the grid) (ie one for each coord set)\n",
    "    yesNo = np.zeros((len(U),1))\n",
    "    #Gives at 1 for all the UV coords which have existing corresponding pixel values from the oblique image\n",
    "    on = np.where((U>=Umin) & (U<=Umax) & (V>=Vmin) & (V<=Vmax)) [0]\n",
    "    yesNo[on] = 1\n",
    "    return yesNo"
   ]
  },
  {
   "cell_type": "code",
   "execution_count": 21,
   "metadata": {},
   "outputs": [],
   "source": [
    "#Gives the index of all the UV coords which will have pixel data\n",
    "good = np.where(onScreen(UV[:,0], UV[:,1], NU, NV) == 1)[0]"
   ]
  },
  {
   "cell_type": "code",
   "execution_count": 22,
   "metadata": {},
   "outputs": [],
   "source": [
    "UV = UV.astype(int)\n",
    "#arr is an array containing the useful UV coordinates with the V coords on top of the U coords\n",
    "arr = np.array([UV[good,1], UV[good,0]])\n",
    "#returns the linear indices of the usful coordinates\n",
    "ind = np.ravel_multi_index(arr, (NV, NU), mode='clip', order='F')"
   ]
  },
  {
   "cell_type": "code",
   "execution_count": 23,
   "metadata": {},
   "outputs": [],
   "source": [
    "#same as before size of grid with 3 depth for RGB\n",
    "foo = images_sumI"
   ]
  },
  {
   "cell_type": "code",
   "execution_count": 24,
   "metadata": {},
   "outputs": [],
   "source": [
    "for i in [0, 1, 2]:\n",
    "    #Take each of the RGB information arrays\n",
    "    I3 = I[:,:,i]\n",
    "    #Reshape it so that it is one column (column by column)\n",
    "    I3 = np.reshape(I3, (-1, 1), order='F')\n",
    "    #Extract the data from the image pixels corresponding to xyz grid points\n",
    "    I2 = I3[ind]\n",
    "    #Make bar the same shape as the real-world grid\n",
    "    bar = foo[:,:,i]\n",
    "    #Straignten it out\n",
    "    bar = np.reshape(bar, (-1, 1), order='F')\n",
    "    #The relevant coordinates of bar (real-world grid) will now attain the pixel data\n",
    "    bar[good] = I2\n",
    "    #Reshape bar\n",
    "    bar = np.reshape(bar, (len(images_sumI), -1), order='F')\n",
    "    #Put the data back into foo to hold it safely\n",
    "    foo[:,:,i] = bar"
   ]
  },
  {
   "cell_type": "code",
   "execution_count": 25,
   "metadata": {},
   "outputs": [],
   "source": [
    "images_dn = dn\n",
    "#x grid axis\n",
    "images_x = x\n",
    "#y grid axis\n",
    "images_y = y\n",
    "#Pixel info in the grid\n",
    "images_sumI  = foo\n",
    "#xyz coords of each grid point\n",
    "images_xyz = xyz\n",
    "images_N = np.reshape(images_N, (-1, 1), order='F')\n",
    "#Puts a 1 in every location where there is pixel data in the grid\n",
    "images_N[good] = 1\n",
    "images_N = np.reshape(images_N, (X.shape[0], X.shape[1], 1), order='F')"
   ]
  },
  {
   "cell_type": "code",
   "execution_count": 26,
   "metadata": {},
   "outputs": [],
   "source": [
    "#Copies N to fit the shape of the RGB grid\n",
    "N = np.tile(images_N, (1, 1, 3))"
   ]
  },
  {
   "cell_type": "code",
   "execution_count": 29,
   "metadata": {},
   "outputs": [
    {
     "name": "stderr",
     "output_type": "stream",
     "text": [
      "<ipython-input-29-d1583a625664>:3: RuntimeWarning: invalid value encountered in true_divide\n",
      "  finalImages_timex = (images_sumI/N).astype(int)\n",
      "Clipping input data to the valid range for imshow with RGB data ([0..1] for floats or [0..255] for integers).\n"
     ]
    },
    {
     "data": {
      "text/plain": [
       "Text(0.5, 1.0, 'Georectified image - Python')"
      ]
     },
     "execution_count": 29,
     "metadata": {},
     "output_type": "execute_result"
    }
   ],
   "source": [
    "%matplotlib qt\n",
    "#All grid coordinates without pixel data are assigned a NaN value due to the division by 0 from N:\n",
    "finalImages_timex = (images_sumI/N).astype(int)\n",
    "plt.imshow(finalImages_timex, extent = (xy[0,0], xy[0,2], xy[0,5], xy[0,3]))\n",
    "plt.xlabel(\"X (m)\")\n",
    "plt.ylabel(\"Y (m)\")\n",
    "plt.title(\"Georectified image - Python\")"
   ]
  },
  {
   "cell_type": "code",
   "execution_count": null,
   "metadata": {},
   "outputs": [],
   "source": []
  }
 ],
 "metadata": {
  "kernelspec": {
   "display_name": "Python 3",
   "language": "python",
   "name": "python3"
  },
  "language_info": {
   "codemirror_mode": {
    "name": "ipython",
    "version": 3
   },
   "file_extension": ".py",
   "mimetype": "text/x-python",
   "name": "python",
   "nbconvert_exporter": "python",
   "pygments_lexer": "ipython3",
   "version": "3.8.3"
  }
 },
 "nbformat": 4,
 "nbformat_minor": 4
}
