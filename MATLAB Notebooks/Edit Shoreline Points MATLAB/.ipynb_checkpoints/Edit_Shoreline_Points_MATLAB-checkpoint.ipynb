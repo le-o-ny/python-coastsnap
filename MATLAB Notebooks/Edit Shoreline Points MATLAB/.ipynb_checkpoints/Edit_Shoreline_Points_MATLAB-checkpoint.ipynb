{
 "cells": [
  {
   "cell_type": "markdown",
   "metadata": {},
   "source": [
    "## Edit Shoreline Points\n",
    "This notebook presents the critical functions used in CoastSnap to refine the shoreline points which have been established (see Map Shoreline MATLAB notebook)"
   ]
  },
  {
   "cell_type": "markdown",
   "metadata": {},
   "source": [
    "### 1. Retrieve shoreline points' coordinates."
   ]
  },
  {
   "cell_type": "markdown",
   "metadata": {},
   "source": [
    "These were determined at the location along each transect. This data is called from the previous CoastSnap section."
   ]
  },
  {
   "cell_type": "code",
   "execution_count": 1,
   "metadata": {},
   "outputs": [],
   "source": [
    "%alter the path in the add path function to match your own\n",
    "addpath('/Users/nickheaney/Desktop/Jupyter notebooks/final releases/MATLAB Notebooks')\n",
    "addpath('/Users/nickheaney/Desktop/CoastSnap/Code/GUI')\n",
    "load('Edit_Shoreline.mat');\n",
    "%Re-defining the shoreline variable:\n",
    "sl = data_plan.sl;"
   ]
  },
  {
   "cell_type": "markdown",
   "metadata": {},
   "source": [
    "### 2. Retrieve the plan image and plot these individual shoreline points on it."
   ]
  },
  {
   "cell_type": "markdown",
   "metadata": {},
   "source": [
    "***impoly*** is used for this step to plot the points in **sl.xyz** on to the existing plan image in the GUI (via the handle, **handles.plan_image**. ***impoly*** thereafter allows the points to be individually manipulated."
   ]
  },
  {
   "cell_type": "code",
   "execution_count": 2,
   "metadata": {},
   "outputs": [],
   "source": [
    "h = impoly(handles.plan_image,sl.xyz(:,1:2),'closed',0);"
   ]
  },
  {
   "cell_type": "markdown",
   "metadata": {},
   "source": [
    "**Note:** Jupyter Notebook is unable to generate the GUI which would normally happen when the code in the cell above is run in the MATLAB environment. Instead we will generate a figure with the same axes and plan image below to demonstrate ***impoly***."
   ]
  },
  {
   "cell_type": "code",
   "execution_count": 3,
   "metadata": {},
   "outputs": [],
   "source": [
    "%plot native\n",
    "load('AxesImage4Handles.mat')\n",
    "figure\n",
    "RectImageAxesh = axes; %create handle to the axes for \n",
    "imagesc(xAxis,yAxis,RectImage);"
   ]
  },
  {
   "cell_type": "markdown",
   "metadata": {},
   "source": [
    "The cell below carries out the exact same operation of ***impoly*** as CoastSnap. Notice that here, the handle, **RectImageAxesh** is to the axes in the figure we have just generated instead of to the GUI. <br>\n",
    "**Note** if you closed the figure, the cell below will not work. In this case, you will need to restart the kernel (using the button in the tools)"
   ]
  },
  {
   "cell_type": "code",
   "execution_count": 4,
   "metadata": {},
   "outputs": [],
   "source": [
    "h = impoly(RectImageAxesh,sl.xyz(:,1:2),'closed',0);"
   ]
  },
  {
   "cell_type": "markdown",
   "metadata": {},
   "source": [
    "### 3. Adjust the shoreline points using the interface provided by ***impoly***"
   ]
  },
  {
   "cell_type": "code",
   "execution_count": 5,
   "metadata": {},
   "outputs": [
    {
     "name": "stdout",
     "output_type": "stream",
     "text": [
      "Please edit your shoreline now and double click when done\n"
     ]
    }
   ],
   "source": [
    "disp('Please edit your shoreline now and double click when done')\n",
    "wait(h);"
   ]
  },
  {
   "cell_type": "markdown",
   "metadata": {},
   "source": [
    "### 4. Get the new position of the shoreline points after adjustment."
   ]
  },
  {
   "cell_type": "markdown",
   "metadata": {},
   "source": [
    "The function ***getPosition*** directly extracts the coordinate of the string of points generated (and altered) using ***impoly***:"
   ]
  },
  {
   "cell_type": "code",
   "execution_count": 6,
   "metadata": {},
   "outputs": [],
   "source": [
    "newpos = getPosition(h);"
   ]
  }
 ],
 "metadata": {
  "kernelspec": {
   "display_name": "Matlab",
   "language": "matlab",
   "name": "matlab"
  },
  "language_info": {
   "codemirror_mode": "octave",
   "file_extension": ".m",
   "help_links": [
    {
     "text": "MetaKernel Magics",
     "url": "https://metakernel.readthedocs.io/en/latest/source/README.html"
    }
   ],
   "mimetype": "text/x-octave",
   "name": "matlab",
   "version": "0.16.11"
  }
 },
 "nbformat": 4,
 "nbformat_minor": 4
}
